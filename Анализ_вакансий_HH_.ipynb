{
  "cells": [
    {
      "cell_type": "markdown",
      "metadata": {
        "id": "view-in-github",
        "colab_type": "text"
      },
      "source": [
        "<a href=\"https://colab.research.google.com/github/tataev/Python/blob/master/%D0%90%D0%BD%D0%B0%D0%BB%D0%B8%D0%B7_%D0%B2%D0%B0%D0%BA%D0%B0%D0%BD%D1%81%D0%B8%D0%B9_HH_.ipynb\" target=\"_parent\"><img src=\"https://colab.research.google.com/assets/colab-badge.svg\" alt=\"Open In Colab\"/></a>"
      ]
    },
    {
      "cell_type": "markdown",
      "id": "3d2869e5",
      "metadata": {
        "id": "3d2869e5"
      },
      "source": [
        "Для начала импортируем необходимые библиотеки"
      ]
    },
    {
      "cell_type": "code",
      "execution_count": 26,
      "id": "9eb543c0",
      "metadata": {
        "id": "9eb543c0"
      },
      "outputs": [],
      "source": [
        "#подключаем библиотеку для хранения и обработки табличных данных\n",
        "import pandas as pd\n",
        "# подключаем библиотеки для визуализации\n",
        "import matplotlib.pyplot as plt\n",
        "# прописываем команду, чтобы график выводился сразу в нашем блокноте\n",
        "%matplotlib inline"
      ]
    },
    {
      "cell_type": "code",
      "source": [],
      "metadata": {
        "id": "lNIbOiJYRnJe"
      },
      "id": "lNIbOiJYRnJe",
      "execution_count": 26,
      "outputs": []
    },
    {
      "cell_type": "markdown",
      "id": "6baed504",
      "metadata": {
        "id": "6baed504"
      },
      "source": [
        "#### Запустим скрипт (парсер) для получения информации о вакансиях с сайта hh.ru\n",
        "Просто запустите эту ячейку, разбираться в ней не нужно\n"
      ]
    },
    {
      "cell_type": "code",
      "execution_count": 27,
      "id": "38242869",
      "metadata": {
        "colab": {
          "base_uri": "https://localhost:8080/"
        },
        "id": "38242869",
        "outputId": "15030612-acc5-4a1f-9d53-dd0a5804b139"
      },
      "outputs": [
        {
          "output_type": "stream",
          "name": "stderr",
          "text": [
            "100%|██████████| 100/100 [00:57<00:00,  1.73it/s]"
          ]
        },
        {
          "output_type": "stream",
          "name": "stdout",
          "text": [
            "\n",
            "Данные собраны в файл vacancy.csv\n"
          ]
        },
        {
          "output_type": "stream",
          "name": "stderr",
          "text": [
            "\n"
          ]
        }
      ],
      "source": [
        "#подключим необходимые библиотеки\n",
        "import requests      # Для запросов по API\n",
        "from tqdm import tqdm #для отображения прогресса\n",
        "\n",
        "number_of_pages = 100\n",
        "\n",
        "job = \"системный администратор\"\n",
        "names = []\n",
        "area = []\n",
        "employer = []\n",
        "salary = []\n",
        "snippet = []\n",
        "schedule = []\n",
        "currency = []\n",
        "for i in tqdm(range(number_of_pages)):\n",
        "    url = f'https://api.hh.ru/vacancies?area=113&professional_role=10&professional_role=96&search_field=name&search_field=company_name&search_field=description&only_with_salary=true&text=%D0%B0%D0%BD%D0%B0%D0%BB%D0%B8%D1%82%D0%B8%D0%BA+%D0%B4%D0%B0%D0%BD%D0%BD%D1%8B%D1%85&from=suggest_post&page={i}'\n",
        "    #par = {'text': job, 'area':'113','per_page':'100', 'page':i, 'only_with_salary':'true'}\n",
        "    r = requests.get(url)\n",
        "\n",
        "    data = r.json()\n",
        "    for d in data['items']:\n",
        "        if 'системный' not in d['name']:\n",
        "            names.append(d['name'])\n",
        "            employer.append(d['employer']['name'])\n",
        "            area.append(d['area']['name'])\n",
        "            if (d['salary']['to'] != None) and (d['salary']['from'] != None):\n",
        "                salary.append((d['salary']['from']+d['salary']['to']/2))\n",
        "            elif d['salary']['from'] is None:\n",
        "                salary.append(d['salary']['to'])\n",
        "            else:\n",
        "                salary.append(d['salary']['from'])\n",
        "            currency.append(d['salary']['currency'])                                          \n",
        "            schedule.append(d['schedule']['name'])\n",
        "            snippet.append(d['snippet']['requirement'])\n",
        "        \n",
        "df = pd.DataFrame({'name':names, \n",
        "                   'city':area, \n",
        "                   'employer':employer, \n",
        "                   'salary':salary,\n",
        "                   'currency':currency,  \n",
        "                   \"requirement\":snippet, \n",
        "                   'schedule':schedule})\n",
        "\n",
        "filename = 'vacancy.csv'\n",
        "df.to_csv(filename, sep=',', index=False)\n",
        "\n",
        "print(f'\\nДанные собраны в файл {filename}')"
      ]
    },
    {
      "cell_type": "code",
      "source": [],
      "metadata": {
        "id": "rY8PaOE6Rn5K"
      },
      "id": "rY8PaOE6Rn5K",
      "execution_count": 27,
      "outputs": []
    },
    {
      "cell_type": "markdown",
      "id": "4375bc41",
      "metadata": {
        "id": "4375bc41"
      },
      "source": [
        "#### Загрузим наши данные и посмотрим на них\n",
        "\n",
        "---\n",
        "\n",
        "\n",
        "\n",
        "---\n",
        "\n"
      ]
    },
    {
      "cell_type": "markdown",
      "id": "9ea8386d",
      "metadata": {
        "id": "9ea8386d"
      },
      "source": [
        "Параметры \n",
        "<ul>\n",
        "<li><strong>df</strong> - имя нашей таблицы </li>\n",
        "<li><strong>read_csv</strong> - функция, при помощи которой мы открываем csv файл (для других типпов файлов - другой параметр у read, например, read_xslx) </li>\n",
        "<li><strong>'vacancy.csv'</strong> - путь и имя файла, который мы хотим открыть (<em>оно обязательно должно быть в кавычках</em>)</li>\n",
        "</ul>"
      ]
    },
    {
      "cell_type": "code",
      "execution_count": 28,
      "id": "f46642cb",
      "metadata": {
        "id": "f46642cb"
      },
      "outputs": [],
      "source": [
        "df = pd.read_csv('vacancy.csv')"
      ]
    },
    {
      "cell_type": "code",
      "execution_count": 29,
      "id": "48f780da",
      "metadata": {
        "colab": {
          "base_uri": "https://localhost:8080/",
          "height": 206
        },
        "id": "48f780da",
        "outputId": "48b0ec0d-7088-4d84-c105-6bb9d212033c"
      },
      "outputs": [
        {
          "output_type": "execute_result",
          "data": {
            "text/plain": [
              "                                        name    city  \\\n",
              "0                   Бизнес-аналитик (стажёр)  Москва   \n",
              "1                                   Аналитик  Москва   \n",
              "2  Менеджер аналитик по развитию Маркетплейс  Москва   \n",
              "3                            Аналитик данных  Москва   \n",
              "4                     Аналитик (Маркетплейс)  Москва   \n",
              "\n",
              "                     employer    salary currency  \\\n",
              "0  Ельмикеев Евгений Иванович   25000.0      RUR   \n",
              "1          Сково,Торговый дом   78000.0      RUR   \n",
              "2              Щербицкая Н.Н.  210000.0      RUR   \n",
              "3            Детские продукты  144000.0      RUR   \n",
              "4  Грицаенко Елена Викторовна   50000.0      RUR   \n",
              "\n",
              "                                         requirement          schedule  \n",
              "0  Главная задача должности бизнес-<highlighttext...  Удаленная работа  \n",
              "1  Высшее образование. Опыт работы в аналогичной ...       Полный день  \n",
              "2  Продвинутое знание и владение Excel. Аналитиче...  Удаленная работа  \n",
              "3  Умение выделять из массива значимые <highlight...       Полный день  \n",
              "4  Опыт работы в сфере <highlighttext>аналитики</...  Удаленная работа  "
            ],
            "text/html": [
              "\n",
              "  <div id=\"df-2d5af374-7ebd-4e0c-a96b-ed59b6e51a61\">\n",
              "    <div class=\"colab-df-container\">\n",
              "      <div>\n",
              "<style scoped>\n",
              "    .dataframe tbody tr th:only-of-type {\n",
              "        vertical-align: middle;\n",
              "    }\n",
              "\n",
              "    .dataframe tbody tr th {\n",
              "        vertical-align: top;\n",
              "    }\n",
              "\n",
              "    .dataframe thead th {\n",
              "        text-align: right;\n",
              "    }\n",
              "</style>\n",
              "<table border=\"1\" class=\"dataframe\">\n",
              "  <thead>\n",
              "    <tr style=\"text-align: right;\">\n",
              "      <th></th>\n",
              "      <th>name</th>\n",
              "      <th>city</th>\n",
              "      <th>employer</th>\n",
              "      <th>salary</th>\n",
              "      <th>currency</th>\n",
              "      <th>requirement</th>\n",
              "      <th>schedule</th>\n",
              "    </tr>\n",
              "  </thead>\n",
              "  <tbody>\n",
              "    <tr>\n",
              "      <th>0</th>\n",
              "      <td>Бизнес-аналитик (стажёр)</td>\n",
              "      <td>Москва</td>\n",
              "      <td>Ельмикеев Евгений Иванович</td>\n",
              "      <td>25000.0</td>\n",
              "      <td>RUR</td>\n",
              "      <td>Главная задача должности бизнес-&lt;highlighttext...</td>\n",
              "      <td>Удаленная работа</td>\n",
              "    </tr>\n",
              "    <tr>\n",
              "      <th>1</th>\n",
              "      <td>Аналитик</td>\n",
              "      <td>Москва</td>\n",
              "      <td>Сково,Торговый дом</td>\n",
              "      <td>78000.0</td>\n",
              "      <td>RUR</td>\n",
              "      <td>Высшее образование. Опыт работы в аналогичной ...</td>\n",
              "      <td>Полный день</td>\n",
              "    </tr>\n",
              "    <tr>\n",
              "      <th>2</th>\n",
              "      <td>Менеджер аналитик по развитию Маркетплейс</td>\n",
              "      <td>Москва</td>\n",
              "      <td>Щербицкая Н.Н.</td>\n",
              "      <td>210000.0</td>\n",
              "      <td>RUR</td>\n",
              "      <td>Продвинутое знание и владение Excel. Аналитиче...</td>\n",
              "      <td>Удаленная работа</td>\n",
              "    </tr>\n",
              "    <tr>\n",
              "      <th>3</th>\n",
              "      <td>Аналитик данных</td>\n",
              "      <td>Москва</td>\n",
              "      <td>Детские продукты</td>\n",
              "      <td>144000.0</td>\n",
              "      <td>RUR</td>\n",
              "      <td>Умение выделять из массива значимые &lt;highlight...</td>\n",
              "      <td>Полный день</td>\n",
              "    </tr>\n",
              "    <tr>\n",
              "      <th>4</th>\n",
              "      <td>Аналитик (Маркетплейс)</td>\n",
              "      <td>Москва</td>\n",
              "      <td>Грицаенко Елена Викторовна</td>\n",
              "      <td>50000.0</td>\n",
              "      <td>RUR</td>\n",
              "      <td>Опыт работы в сфере &lt;highlighttext&gt;аналитики&lt;/...</td>\n",
              "      <td>Удаленная работа</td>\n",
              "    </tr>\n",
              "  </tbody>\n",
              "</table>\n",
              "</div>\n",
              "      <button class=\"colab-df-convert\" onclick=\"convertToInteractive('df-2d5af374-7ebd-4e0c-a96b-ed59b6e51a61')\"\n",
              "              title=\"Convert this dataframe to an interactive table.\"\n",
              "              style=\"display:none;\">\n",
              "        \n",
              "  <svg xmlns=\"http://www.w3.org/2000/svg\" height=\"24px\"viewBox=\"0 0 24 24\"\n",
              "       width=\"24px\">\n",
              "    <path d=\"M0 0h24v24H0V0z\" fill=\"none\"/>\n",
              "    <path d=\"M18.56 5.44l.94 2.06.94-2.06 2.06-.94-2.06-.94-.94-2.06-.94 2.06-2.06.94zm-11 1L8.5 8.5l.94-2.06 2.06-.94-2.06-.94L8.5 2.5l-.94 2.06-2.06.94zm10 10l.94 2.06.94-2.06 2.06-.94-2.06-.94-.94-2.06-.94 2.06-2.06.94z\"/><path d=\"M17.41 7.96l-1.37-1.37c-.4-.4-.92-.59-1.43-.59-.52 0-1.04.2-1.43.59L10.3 9.45l-7.72 7.72c-.78.78-.78 2.05 0 2.83L4 21.41c.39.39.9.59 1.41.59.51 0 1.02-.2 1.41-.59l7.78-7.78 2.81-2.81c.8-.78.8-2.07 0-2.86zM5.41 20L4 18.59l7.72-7.72 1.47 1.35L5.41 20z\"/>\n",
              "  </svg>\n",
              "      </button>\n",
              "      \n",
              "  <style>\n",
              "    .colab-df-container {\n",
              "      display:flex;\n",
              "      flex-wrap:wrap;\n",
              "      gap: 12px;\n",
              "    }\n",
              "\n",
              "    .colab-df-convert {\n",
              "      background-color: #E8F0FE;\n",
              "      border: none;\n",
              "      border-radius: 50%;\n",
              "      cursor: pointer;\n",
              "      display: none;\n",
              "      fill: #1967D2;\n",
              "      height: 32px;\n",
              "      padding: 0 0 0 0;\n",
              "      width: 32px;\n",
              "    }\n",
              "\n",
              "    .colab-df-convert:hover {\n",
              "      background-color: #E2EBFA;\n",
              "      box-shadow: 0px 1px 2px rgba(60, 64, 67, 0.3), 0px 1px 3px 1px rgba(60, 64, 67, 0.15);\n",
              "      fill: #174EA6;\n",
              "    }\n",
              "\n",
              "    [theme=dark] .colab-df-convert {\n",
              "      background-color: #3B4455;\n",
              "      fill: #D2E3FC;\n",
              "    }\n",
              "\n",
              "    [theme=dark] .colab-df-convert:hover {\n",
              "      background-color: #434B5C;\n",
              "      box-shadow: 0px 1px 3px 1px rgba(0, 0, 0, 0.15);\n",
              "      filter: drop-shadow(0px 1px 2px rgba(0, 0, 0, 0.3));\n",
              "      fill: #FFFFFF;\n",
              "    }\n",
              "  </style>\n",
              "\n",
              "      <script>\n",
              "        const buttonEl =\n",
              "          document.querySelector('#df-2d5af374-7ebd-4e0c-a96b-ed59b6e51a61 button.colab-df-convert');\n",
              "        buttonEl.style.display =\n",
              "          google.colab.kernel.accessAllowed ? 'block' : 'none';\n",
              "\n",
              "        async function convertToInteractive(key) {\n",
              "          const element = document.querySelector('#df-2d5af374-7ebd-4e0c-a96b-ed59b6e51a61');\n",
              "          const dataTable =\n",
              "            await google.colab.kernel.invokeFunction('convertToInteractive',\n",
              "                                                     [key], {});\n",
              "          if (!dataTable) return;\n",
              "\n",
              "          const docLinkHtml = 'Like what you see? Visit the ' +\n",
              "            '<a target=\"_blank\" href=https://colab.research.google.com/notebooks/data_table.ipynb>data table notebook</a>'\n",
              "            + ' to learn more about interactive tables.';\n",
              "          element.innerHTML = '';\n",
              "          dataTable['output_type'] = 'display_data';\n",
              "          await google.colab.output.renderOutput(dataTable, element);\n",
              "          const docLink = document.createElement('div');\n",
              "          docLink.innerHTML = docLinkHtml;\n",
              "          element.appendChild(docLink);\n",
              "        }\n",
              "      </script>\n",
              "    </div>\n",
              "  </div>\n",
              "  "
            ]
          },
          "metadata": {},
          "execution_count": 29
        }
      ],
      "source": [
        "#Вызовем функцию, чтобы посмотреть первые строк нашей таблицы. \n",
        "df.head()"
      ]
    },
    {
      "cell_type": "markdown",
      "source": [
        "Наша таблица состоит из следующих полей:\n",
        "\n",
        "\n",
        "*   name - название вакансии\n",
        "*   city - город \n",
        "*   employer - название комапании-работадателя\n",
        "*   salary - зарплата\n",
        "*   cyrrency - валюта зарплаты\n",
        "*   requirement\t- описание требований вакансии\n",
        "*   schedule - тип занятости\n",
        "\n"
      ],
      "metadata": {
        "id": "r_ztJyAz_j1O"
      },
      "id": "r_ztJyAz_j1O"
    },
    {
      "cell_type": "markdown",
      "source": [],
      "metadata": {
        "id": "zZIcq0fA_iGw"
      },
      "id": "zZIcq0fA_iGw"
    },
    {
      "cell_type": "code",
      "execution_count": 30,
      "id": "ac5cfc35",
      "metadata": {
        "colab": {
          "base_uri": "https://localhost:8080/"
        },
        "id": "ac5cfc35",
        "outputId": "c2276d0e-05b6-4681-b382-d00dfaf8efea"
      },
      "outputs": [
        {
          "output_type": "execute_result",
          "data": {
            "text/plain": [
              "(1250, 7)"
            ]
          },
          "metadata": {},
          "execution_count": 30
        }
      ],
      "source": [
        "#посмотрим сколько всего у нас собрано вакансий - количество строк и колонок (-1)\n",
        "df.shape"
      ]
    },
    {
      "cell_type": "code",
      "execution_count": 31,
      "id": "dd70d739",
      "metadata": {
        "colab": {
          "base_uri": "https://localhost:8080/",
          "height": 206
        },
        "id": "dd70d739",
        "outputId": "8100658d-e1a6-4777-8421-1ee29ab60842"
      },
      "outputs": [
        {
          "output_type": "execute_result",
          "data": {
            "text/plain": [
              "                                               name             city  \\\n",
              "1245        Senior C/C++ Engineer (switch to Julia)        Краснодар   \n",
              "1246        Senior C/C++ Engineer (switch to Julia)          Воронеж   \n",
              "1247  Младший специалист HR (по оценке сотрудников)          Елабуга   \n",
              "1248        Senior C/C++ Engineer (switch to Julia)  Нижний Новгород   \n",
              "1249        Senior C/C++ Engineer (switch to Julia)           Казань   \n",
              "\n",
              "                 employer   salary currency  \\\n",
              "1245  Advantage Solutions   6000.0      USD   \n",
              "1246  Advantage Solutions   6000.0      USD   \n",
              "1247     Алабуга, ОЭЗ ППТ  70000.0      RUR   \n",
              "1248  Advantage Solutions   6000.0      USD   \n",
              "1249  Advantage Solutions   6000.0      USD   \n",
              "\n",
              "                                            requirement          schedule  \n",
              "1245  ...<highlighttext>данных</highlighttext>, патт...  Удаленная работа  \n",
              "1246  ...<highlighttext>данных</highlighttext>, патт...  Удаленная работа  \n",
              "1247  Желание развиваться в сфере HR. Грамотная устн...       Полный день  \n",
              "1248  ...<highlighttext>данных</highlighttext>, патт...  Удаленная работа  \n",
              "1249  ...<highlighttext>данных</highlighttext>, патт...  Удаленная работа  "
            ],
            "text/html": [
              "\n",
              "  <div id=\"df-4ac2e808-307b-4e59-a9c8-61aed3c814e0\">\n",
              "    <div class=\"colab-df-container\">\n",
              "      <div>\n",
              "<style scoped>\n",
              "    .dataframe tbody tr th:only-of-type {\n",
              "        vertical-align: middle;\n",
              "    }\n",
              "\n",
              "    .dataframe tbody tr th {\n",
              "        vertical-align: top;\n",
              "    }\n",
              "\n",
              "    .dataframe thead th {\n",
              "        text-align: right;\n",
              "    }\n",
              "</style>\n",
              "<table border=\"1\" class=\"dataframe\">\n",
              "  <thead>\n",
              "    <tr style=\"text-align: right;\">\n",
              "      <th></th>\n",
              "      <th>name</th>\n",
              "      <th>city</th>\n",
              "      <th>employer</th>\n",
              "      <th>salary</th>\n",
              "      <th>currency</th>\n",
              "      <th>requirement</th>\n",
              "      <th>schedule</th>\n",
              "    </tr>\n",
              "  </thead>\n",
              "  <tbody>\n",
              "    <tr>\n",
              "      <th>1245</th>\n",
              "      <td>Senior C/C++ Engineer (switch to Julia)</td>\n",
              "      <td>Краснодар</td>\n",
              "      <td>Advantage Solutions</td>\n",
              "      <td>6000.0</td>\n",
              "      <td>USD</td>\n",
              "      <td>...&lt;highlighttext&gt;данных&lt;/highlighttext&gt;, патт...</td>\n",
              "      <td>Удаленная работа</td>\n",
              "    </tr>\n",
              "    <tr>\n",
              "      <th>1246</th>\n",
              "      <td>Senior C/C++ Engineer (switch to Julia)</td>\n",
              "      <td>Воронеж</td>\n",
              "      <td>Advantage Solutions</td>\n",
              "      <td>6000.0</td>\n",
              "      <td>USD</td>\n",
              "      <td>...&lt;highlighttext&gt;данных&lt;/highlighttext&gt;, патт...</td>\n",
              "      <td>Удаленная работа</td>\n",
              "    </tr>\n",
              "    <tr>\n",
              "      <th>1247</th>\n",
              "      <td>Младший специалист HR (по оценке сотрудников)</td>\n",
              "      <td>Елабуга</td>\n",
              "      <td>Алабуга, ОЭЗ ППТ</td>\n",
              "      <td>70000.0</td>\n",
              "      <td>RUR</td>\n",
              "      <td>Желание развиваться в сфере HR. Грамотная устн...</td>\n",
              "      <td>Полный день</td>\n",
              "    </tr>\n",
              "    <tr>\n",
              "      <th>1248</th>\n",
              "      <td>Senior C/C++ Engineer (switch to Julia)</td>\n",
              "      <td>Нижний Новгород</td>\n",
              "      <td>Advantage Solutions</td>\n",
              "      <td>6000.0</td>\n",
              "      <td>USD</td>\n",
              "      <td>...&lt;highlighttext&gt;данных&lt;/highlighttext&gt;, патт...</td>\n",
              "      <td>Удаленная работа</td>\n",
              "    </tr>\n",
              "    <tr>\n",
              "      <th>1249</th>\n",
              "      <td>Senior C/C++ Engineer (switch to Julia)</td>\n",
              "      <td>Казань</td>\n",
              "      <td>Advantage Solutions</td>\n",
              "      <td>6000.0</td>\n",
              "      <td>USD</td>\n",
              "      <td>...&lt;highlighttext&gt;данных&lt;/highlighttext&gt;, патт...</td>\n",
              "      <td>Удаленная работа</td>\n",
              "    </tr>\n",
              "  </tbody>\n",
              "</table>\n",
              "</div>\n",
              "      <button class=\"colab-df-convert\" onclick=\"convertToInteractive('df-4ac2e808-307b-4e59-a9c8-61aed3c814e0')\"\n",
              "              title=\"Convert this dataframe to an interactive table.\"\n",
              "              style=\"display:none;\">\n",
              "        \n",
              "  <svg xmlns=\"http://www.w3.org/2000/svg\" height=\"24px\"viewBox=\"0 0 24 24\"\n",
              "       width=\"24px\">\n",
              "    <path d=\"M0 0h24v24H0V0z\" fill=\"none\"/>\n",
              "    <path d=\"M18.56 5.44l.94 2.06.94-2.06 2.06-.94-2.06-.94-.94-2.06-.94 2.06-2.06.94zm-11 1L8.5 8.5l.94-2.06 2.06-.94-2.06-.94L8.5 2.5l-.94 2.06-2.06.94zm10 10l.94 2.06.94-2.06 2.06-.94-2.06-.94-.94-2.06-.94 2.06-2.06.94z\"/><path d=\"M17.41 7.96l-1.37-1.37c-.4-.4-.92-.59-1.43-.59-.52 0-1.04.2-1.43.59L10.3 9.45l-7.72 7.72c-.78.78-.78 2.05 0 2.83L4 21.41c.39.39.9.59 1.41.59.51 0 1.02-.2 1.41-.59l7.78-7.78 2.81-2.81c.8-.78.8-2.07 0-2.86zM5.41 20L4 18.59l7.72-7.72 1.47 1.35L5.41 20z\"/>\n",
              "  </svg>\n",
              "      </button>\n",
              "      \n",
              "  <style>\n",
              "    .colab-df-container {\n",
              "      display:flex;\n",
              "      flex-wrap:wrap;\n",
              "      gap: 12px;\n",
              "    }\n",
              "\n",
              "    .colab-df-convert {\n",
              "      background-color: #E8F0FE;\n",
              "      border: none;\n",
              "      border-radius: 50%;\n",
              "      cursor: pointer;\n",
              "      display: none;\n",
              "      fill: #1967D2;\n",
              "      height: 32px;\n",
              "      padding: 0 0 0 0;\n",
              "      width: 32px;\n",
              "    }\n",
              "\n",
              "    .colab-df-convert:hover {\n",
              "      background-color: #E2EBFA;\n",
              "      box-shadow: 0px 1px 2px rgba(60, 64, 67, 0.3), 0px 1px 3px 1px rgba(60, 64, 67, 0.15);\n",
              "      fill: #174EA6;\n",
              "    }\n",
              "\n",
              "    [theme=dark] .colab-df-convert {\n",
              "      background-color: #3B4455;\n",
              "      fill: #D2E3FC;\n",
              "    }\n",
              "\n",
              "    [theme=dark] .colab-df-convert:hover {\n",
              "      background-color: #434B5C;\n",
              "      box-shadow: 0px 1px 3px 1px rgba(0, 0, 0, 0.15);\n",
              "      filter: drop-shadow(0px 1px 2px rgba(0, 0, 0, 0.3));\n",
              "      fill: #FFFFFF;\n",
              "    }\n",
              "  </style>\n",
              "\n",
              "      <script>\n",
              "        const buttonEl =\n",
              "          document.querySelector('#df-4ac2e808-307b-4e59-a9c8-61aed3c814e0 button.colab-df-convert');\n",
              "        buttonEl.style.display =\n",
              "          google.colab.kernel.accessAllowed ? 'block' : 'none';\n",
              "\n",
              "        async function convertToInteractive(key) {\n",
              "          const element = document.querySelector('#df-4ac2e808-307b-4e59-a9c8-61aed3c814e0');\n",
              "          const dataTable =\n",
              "            await google.colab.kernel.invokeFunction('convertToInteractive',\n",
              "                                                     [key], {});\n",
              "          if (!dataTable) return;\n",
              "\n",
              "          const docLinkHtml = 'Like what you see? Visit the ' +\n",
              "            '<a target=\"_blank\" href=https://colab.research.google.com/notebooks/data_table.ipynb>data table notebook</a>'\n",
              "            + ' to learn more about interactive tables.';\n",
              "          element.innerHTML = '';\n",
              "          dataTable['output_type'] = 'display_data';\n",
              "          await google.colab.output.renderOutput(dataTable, element);\n",
              "          const docLink = document.createElement('div');\n",
              "          docLink.innerHTML = docLinkHtml;\n",
              "          element.appendChild(docLink);\n",
              "        }\n",
              "      </script>\n",
              "    </div>\n",
              "  </div>\n",
              "  "
            ]
          },
          "metadata": {},
          "execution_count": 31
        }
      ],
      "source": [
        "#так же посмотрим последние строки \n",
        "df.tail()"
      ]
    },
    {
      "cell_type": "markdown",
      "id": "46098955",
      "metadata": {
        "id": "46098955"
      },
      "source": [
        "#### Немного обработаем (очистим) нашу таблицу"
      ]
    },
    {
      "cell_type": "markdown",
      "id": "095b0c82",
      "metadata": {
        "id": "095b0c82"
      },
      "source": [
        "Видим, что у у нас \"затесались\" вакансии, в описании которых было слово \"аналитик\", но сама вакансия не об этом. Оставим только аналитиков"
      ]
    },
    {
      "cell_type": "markdown",
      "id": "075946df",
      "metadata": {
        "id": "075946df"
      },
      "source": [
        "Параметры \n",
        "<ul>\n",
        "<li><strong>searchfor</strong> - список, в котором мы укажем все слова, подходящие нашей вакансии </li>\n",
        "<li><strong>.str.contains()</strong> - функция для поиска нужных нам значений по шаблону  </li>\n",
        "<li><strong>'|'.join(searchfor)</strong> - создание самого шаблона из списка . \"|\" - значит что слова объединяются через оператор ИЛИ</li>\n",
        "</ul>"
      ]
    },
    {
      "cell_type": "code",
      "execution_count": 32,
      "id": "4167b48b",
      "metadata": {
        "id": "4167b48b"
      },
      "outputs": [],
      "source": [
        "searchfor = ['администратор', 'Администратор', 'Administrator', 'Admin']\n",
        "df = df[df['name'].str.contains('|'.join(searchfor))].reset_index(drop=True)"
      ]
    },
    {
      "cell_type": "markdown",
      "id": "77ba350e",
      "metadata": {
        "id": "77ba350e"
      },
      "source": [
        "Как мы видим, в таблице есть столбец \"currency\", отвечающий за валюту. \n",
        "Это значит, что скорее всего, зарплата может быть не только в рублях, а чтобы ее можно было корректно сравнивать, нужно все зарплаты перевести в рубли. \n",
        "<em>Для начала давайте проверим, верна ли наша догадка.</em> "
      ]
    },
    {
      "cell_type": "code",
      "execution_count": 33,
      "id": "b7e138cd",
      "metadata": {
        "colab": {
          "base_uri": "https://localhost:8080/"
        },
        "id": "b7e138cd",
        "outputId": "2c8e8b2a-4732-4647-c482-5aa5c12b8757"
      },
      "outputs": [
        {
          "output_type": "execute_result",
          "data": {
            "text/plain": [
              "array(['RUR'], dtype=object)"
            ]
          },
          "metadata": {},
          "execution_count": 33
        }
      ],
      "source": [
        "#попробуем вывести уникальные значения из столбца currency\n",
        "df['currency'].unique()"
      ]
    },
    {
      "cell_type": "markdown",
      "id": "1b1d45c4",
      "metadata": {
        "id": "1b1d45c4"
      },
      "source": [
        "Мы воспользовались функцией <em>.unique()</em>, которая выводит уникальные значения.\n"
      ]
    },
    {
      "cell_type": "code",
      "execution_count": 34,
      "id": "d438ad3c",
      "metadata": {
        "id": "d438ad3c"
      },
      "outputs": [],
      "source": [
        "# чтобы не усложнять задачу, возьмем средний курс валют за октябрь с сайта ЦБ РФ и поместим его в словарь curr\n",
        "curr = {'USD':61, 'EUR':60}\n",
        "\n",
        "#создадим новый столбец salary_rur в таблице и пересчитаем зарплату для него \n",
        "df['salary_rur'] = df['salary'] * df['currency'].apply(lambda x: 1 if x == 'RUR' else curr[x])"
      ]
    },
    {
      "cell_type": "markdown",
      "id": "074855ac",
      "metadata": {
        "id": "074855ac"
      },
      "source": [
        "Как это работает\n",
        "<ul>\n",
        "<li><strong>df['salary_rur']</strong> - мы создаем новую строку в таблице с названием 'salary_rur' и задаем условие как она будет формироваться</li>\n",
        "<li><strong>df['salary'] * df['currency'].apply(lambda x: 1 if x == 'RUR' else curr[x])</strong> - каждая строка из столбца <em>salary</em> умножается на каждое значение слобца <em>currency</em>, к которому применена функция</li>\n",
        "<li><strong>.apply()</strong> - функция, которая позволяет передать в неё другую функцию, которая будет применена к каждой строке </li>\n",
        "<li><strong>lambda</strong> - ключевое слово, которое создает безымяную функцию, которая используется в коде только один раз</li>\n",
        "<li><strong>(lambda x: 1 if x == 'RUR' else curr[x])</strong> - если в столбце, к которому применили функцию значение (мы назвали его х) равно 'RUR', то следует использовать значение равным единице, если же другое - то значение из словоря по ключу (x) из словаря <em>curr</em>. Для примера, если значение равно USD, то ключ в словаре <em>curr</em> совпадает со значением 61</li>\n",
        "</ul>"
      ]
    },
    {
      "cell_type": "markdown",
      "id": "207857cd",
      "metadata": {
        "id": "207857cd"
      },
      "source": [
        "##### Давайте посчитаем медианную зарплату аналитиков\n",
        "Для этого воспользуемя функцией <strong>.median()</strong> и применим ее к столбцу, в котором нужно высчитать медиану"
      ]
    },
    {
      "cell_type": "code",
      "execution_count": 35,
      "id": "8f8366df",
      "metadata": {
        "colab": {
          "base_uri": "https://localhost:8080/"
        },
        "id": "8f8366df",
        "outputId": "66a4e7a9-bd86-4e7b-e180-e48379393e69"
      },
      "outputs": [
        {
          "output_type": "execute_result",
          "data": {
            "text/plain": [
              "115000.0"
            ]
          },
          "metadata": {},
          "execution_count": 35
        }
      ],
      "source": [
        "df['salary_rur'].median()"
      ]
    },
    {
      "cell_type": "markdown",
      "id": "d94746c9",
      "metadata": {
        "id": "d94746c9"
      },
      "source": [
        "## Приступим к визуализации"
      ]
    },
    {
      "cell_type": "code",
      "execution_count": 36,
      "id": "62c1f7df",
      "metadata": {
        "colab": {
          "base_uri": "https://localhost:8080/",
          "height": 519
        },
        "id": "62c1f7df",
        "outputId": "959c2848-cdc4-4a0f-f77f-9266197714ad"
      },
      "outputs": [
        {
          "output_type": "display_data",
          "data": {
            "text/plain": [
              "<Figure size 864x576 with 1 Axes>"
            ],
            "image/png": "[encoded data removed]"
          },
          "metadata": {
            "needs_background": "light"
          }
        }
      ],
      "source": [
        "plt.figure(figsize=(12,8))\n",
        "n, bins, patches = plt.hist(df['salary_rur'], \n",
        "                            10, stacked=False, \n",
        "                            density=False, \n",
        "                            color='#ffb28b')\n",
        "plt.title(\"Распределение зарплат системных администраторов по данным портала hh.ru\", fontsize=22)\n",
        "plt.xlabel('Зарплата, руб.')\n",
        "plt.ylabel(\"Количество вакансий\")\n",
        "plt.show()"
      ]
    },
    {
      "cell_type": "markdown",
      "id": "e9fcf893",
      "metadata": {
        "id": "e9fcf893"
      },
      "source": [
        "##### Как же это работает? Давайте разберем на следующем примере"
      ]
    },
    {
      "cell_type": "markdown",
      "id": "97b1556a",
      "metadata": {
        "id": "97b1556a"
      },
      "source": [
        "#### Выберем топ-10 городов по средней зарплате аналитиков"
      ]
    },
    {
      "cell_type": "markdown",
      "id": "f0952b45",
      "metadata": {
        "id": "f0952b45"
      },
      "source": [
        "Для начала создадим новую таблицу с интересующими нас значениями \n",
        "<ul>\n",
        "<li><strong>df.groupby('city', as_index=False)</strong> задаем значения, по которым будет происодить группировка (по столбцу <em>city</em>)</li>\n",
        "<li><strong>agg()</strong> задаем каким образом и что мы будем группировать. В эту функцию обязательно нужно передать словарь. </li>\n",
        "<li><strong>{'salary_rur':'mean'}</strong> - словарь, в котором мы передаем название столбца (<em>salary_rur</em>) и функцию которую нужно применить <em>mean</em>  среднее значение</li>\n",
        "<li><strong>.nlargest(10, 'salary_rur')</strong> функция, которая показывает n самых больших значений. 10 - количество, которое мы хотим получить, <em>salary_rur</em> - столбец по которому мы ищем наибольшие значения</li>\n",
        "<li><strong>.round(2)</strong> - округляем результат до 2 знаков после запятой</li>\n",
        "</ul>"
      ]
    },
    {
      "cell_type": "code",
      "execution_count": 37,
      "id": "f2e30796",
      "metadata": {
        "id": "f2e30796"
      },
      "outputs": [],
      "source": [
        "df_median_salary = df.groupby('city', as_index=False).agg({'salary_rur':'median'}).round(2)\n",
        "top = df_median_salary.nlargest(10, 'salary_rur')"
      ]
    },
    {
      "cell_type": "markdown",
      "id": "84a144ef",
      "metadata": {
        "id": "84a144ef"
      },
      "source": [
        "<details> <summary>Нажмите сюда, чтобы увидеть список аггрегатных функций</summary>\n",
        "\n",
        "\n",
        "<ul>\n",
        "<li><strong>min</strong> - минимальное значение</li>\n",
        "<li><strong>max</strong> - максимальное значение</li>\n",
        "<li><strong>count</strong> - количество</li>\n",
        "<li><strong>mean</strong> - среднее значение</li>\n",
        "<li><strong>median</strong> - медиана</li>\n",
        "\n",
        "</ul>\n",
        "\n",
        "\n",
        "\n",
        "</details>\n"
      ]
    },
    {
      "cell_type": "code",
      "execution_count": 38,
      "id": "87955342",
      "metadata": {
        "id": "87955342",
        "outputId": "146dcf49-1a0c-4b98-e936-a6be2675d16e",
        "colab": {
          "base_uri": "https://localhost:8080/",
          "height": 175
        }
      },
      "outputs": [
        {
          "output_type": "execute_result",
          "data": {
            "text/plain": [
              "               city  salary_rur\n",
              "1            Москва    150000.0\n",
              "3              Сочи    100000.0\n",
              "2  Набережные Челны     92707.5\n",
              "0         Краснодар     75000.0"
            ],
            "text/html": [
              "\n",
              "  <div id=\"df-ccf821b9-da13-4e69-bff5-0b3eda43de62\">\n",
              "    <div class=\"colab-df-container\">\n",
              "      <div>\n",
              "<style scoped>\n",
              "    .dataframe tbody tr th:only-of-type {\n",
              "        vertical-align: middle;\n",
              "    }\n",
              "\n",
              "    .dataframe tbody tr th {\n",
              "        vertical-align: top;\n",
              "    }\n",
              "\n",
              "    .dataframe thead th {\n",
              "        text-align: right;\n",
              "    }\n",
              "</style>\n",
              "<table border=\"1\" class=\"dataframe\">\n",
              "  <thead>\n",
              "    <tr style=\"text-align: right;\">\n",
              "      <th></th>\n",
              "      <th>city</th>\n",
              "      <th>salary_rur</th>\n",
              "    </tr>\n",
              "  </thead>\n",
              "  <tbody>\n",
              "    <tr>\n",
              "      <th>1</th>\n",
              "      <td>Москва</td>\n",
              "      <td>150000.0</td>\n",
              "    </tr>\n",
              "    <tr>\n",
              "      <th>3</th>\n",
              "      <td>Сочи</td>\n",
              "      <td>100000.0</td>\n",
              "    </tr>\n",
              "    <tr>\n",
              "      <th>2</th>\n",
              "      <td>Набережные Челны</td>\n",
              "      <td>92707.5</td>\n",
              "    </tr>\n",
              "    <tr>\n",
              "      <th>0</th>\n",
              "      <td>Краснодар</td>\n",
              "      <td>75000.0</td>\n",
              "    </tr>\n",
              "  </tbody>\n",
              "</table>\n",
              "</div>\n",
              "      <button class=\"colab-df-convert\" onclick=\"convertToInteractive('df-ccf821b9-da13-4e69-bff5-0b3eda43de62')\"\n",
              "              title=\"Convert this dataframe to an interactive table.\"\n",
              "              style=\"display:none;\">\n",
              "        \n",
              "  <svg xmlns=\"http://www.w3.org/2000/svg\" height=\"24px\"viewBox=\"0 0 24 24\"\n",
              "       width=\"24px\">\n",
              "    <path d=\"M0 0h24v24H0V0z\" fill=\"none\"/>\n",
              "    <path d=\"M18.56 5.44l.94 2.06.94-2.06 2.06-.94-2.06-.94-.94-2.06-.94 2.06-2.06.94zm-11 1L8.5 8.5l.94-2.06 2.06-.94-2.06-.94L8.5 2.5l-.94 2.06-2.06.94zm10 10l.94 2.06.94-2.06 2.06-.94-2.06-.94-.94-2.06-.94 2.06-2.06.94z\"/><path d=\"M17.41 7.96l-1.37-1.37c-.4-.4-.92-.59-1.43-.59-.52 0-1.04.2-1.43.59L10.3 9.45l-7.72 7.72c-.78.78-.78 2.05 0 2.83L4 21.41c.39.39.9.59 1.41.59.51 0 1.02-.2 1.41-.59l7.78-7.78 2.81-2.81c.8-.78.8-2.07 0-2.86zM5.41 20L4 18.59l7.72-7.72 1.47 1.35L5.41 20z\"/>\n",
              "  </svg>\n",
              "      </button>\n",
              "      \n",
              "  <style>\n",
              "    .colab-df-container {\n",
              "      display:flex;\n",
              "      flex-wrap:wrap;\n",
              "      gap: 12px;\n",
              "    }\n",
              "\n",
              "    .colab-df-convert {\n",
              "      background-color: #E8F0FE;\n",
              "      border: none;\n",
              "      border-radius: 50%;\n",
              "      cursor: pointer;\n",
              "      display: none;\n",
              "      fill: #1967D2;\n",
              "      height: 32px;\n",
              "      padding: 0 0 0 0;\n",
              "      width: 32px;\n",
              "    }\n",
              "\n",
              "    .colab-df-convert:hover {\n",
              "      background-color: #E2EBFA;\n",
              "      box-shadow: 0px 1px 2px rgba(60, 64, 67, 0.3), 0px 1px 3px 1px rgba(60, 64, 67, 0.15);\n",
              "      fill: #174EA6;\n",
              "    }\n",
              "\n",
              "    [theme=dark] .colab-df-convert {\n",
              "      background-color: #3B4455;\n",
              "      fill: #D2E3FC;\n",
              "    }\n",
              "\n",
              "    [theme=dark] .colab-df-convert:hover {\n",
              "      background-color: #434B5C;\n",
              "      box-shadow: 0px 1px 3px 1px rgba(0, 0, 0, 0.15);\n",
              "      filter: drop-shadow(0px 1px 2px rgba(0, 0, 0, 0.3));\n",
              "      fill: #FFFFFF;\n",
              "    }\n",
              "  </style>\n",
              "\n",
              "      <script>\n",
              "        const buttonEl =\n",
              "          document.querySelector('#df-ccf821b9-da13-4e69-bff5-0b3eda43de62 button.colab-df-convert');\n",
              "        buttonEl.style.display =\n",
              "          google.colab.kernel.accessAllowed ? 'block' : 'none';\n",
              "\n",
              "        async function convertToInteractive(key) {\n",
              "          const element = document.querySelector('#df-ccf821b9-da13-4e69-bff5-0b3eda43de62');\n",
              "          const dataTable =\n",
              "            await google.colab.kernel.invokeFunction('convertToInteractive',\n",
              "                                                     [key], {});\n",
              "          if (!dataTable) return;\n",
              "\n",
              "          const docLinkHtml = 'Like what you see? Visit the ' +\n",
              "            '<a target=\"_blank\" href=https://colab.research.google.com/notebooks/data_table.ipynb>data table notebook</a>'\n",
              "            + ' to learn more about interactive tables.';\n",
              "          element.innerHTML = '';\n",
              "          dataTable['output_type'] = 'display_data';\n",
              "          await google.colab.output.renderOutput(dataTable, element);\n",
              "          const docLink = document.createElement('div');\n",
              "          docLink.innerHTML = docLinkHtml;\n",
              "          element.appendChild(docLink);\n",
              "        }\n",
              "      </script>\n",
              "    </div>\n",
              "  </div>\n",
              "  "
            ]
          },
          "metadata": {},
          "execution_count": 38
        }
      ],
      "source": [
        "#выведем получившуюся таблицу (10)\n",
        "top"
      ]
    },
    {
      "cell_type": "markdown",
      "id": "be449ff5",
      "metadata": {
        "id": "be449ff5"
      },
      "source": [
        "Построим соответствующую столбчатую диаграмму"
      ]
    },
    {
      "cell_type": "markdown",
      "id": "9ef8b30a",
      "metadata": {
        "id": "9ef8b30a"
      },
      "source": [
        "Создадим график\n",
        "<ul>\n",
        "<li><strong>plt.figure()</strong> - мы создаем объект для графика (по сути - область, где будет выводиться диаграмма)</li>\n",
        "<li><strong>figsize=(14,8)</strong> - размеры графика (ширина и высота) в дюймах</li>\n",
        "<li><strong>plt.title</strong> Указываем название графика. <strong>fontsize=22</strong> - размер шрифта (22)</li>\n",
        "<li><strong>plt.bar()</strong> Создаем сам график (bar - столбчатый график). <strong>top['city'],top['salary_rur']</strong> - оси X и Y, в нашем случае это столбцы </li>\n",
        "<li><strong>color='#24d6ca'</strong> задаем цвет столбцов. Можно использовать HEX-палитру или писать названия цветов на английском ('red', 'yellow' и т.д.)</li>\n",
        "<li><strong>plt.xlabel/plt.ylabel</strong> - задаем названия осей.</li>\n",
        "<li><strong>plt.show()</strong> показать график </li>\n",
        "</ul>"
      ]
    },
    {
      "cell_type": "code",
      "execution_count": 39,
      "id": "133438d9",
      "metadata": {
        "id": "133438d9",
        "outputId": "6bd2c88d-5342-44e7-946f-d7f23c10b6f5",
        "colab": {
          "base_uri": "https://localhost:8080/",
          "height": 515
        }
      },
      "outputs": [
        {
          "output_type": "display_data",
          "data": {
            "text/plain": [
              "<Figure size 1008x576 with 1 Axes>"
            ],
            "image/png": "[encoded data removed]"
          },
          "metadata": {
            "needs_background": "light"
          }
        }
      ],
      "source": [
        "plt.figure(figsize=(14,8))\n",
        "\n",
        "plt.title(\"Топ-10 городов России по медианной зарплате системных администраторов по данным портала hh.ru\", fontsize=16)\n",
        "plt.bar(top['city'],top['salary_rur'], color='#24d6ca')\n",
        "\n",
        "plt.xlabel('Город')\n",
        "plt.ylabel(\"Зарплата, руб.\")\n",
        "plt.show()"
      ]
    },
    {
      "cell_type": "markdown",
      "id": "6acc8e59",
      "metadata": {
        "id": "6acc8e59"
      },
      "source": [
        "##### Самостоятельная работа"
      ]
    },
    {
      "cell_type": "markdown",
      "source": [],
      "metadata": {
        "id": "XOpmUNOUSA1S"
      },
      "id": "XOpmUNOUSA1S"
    },
    {
      "cell_type": "markdown",
      "id": "17e06200",
      "metadata": {
        "id": "17e06200"
      },
      "source": [
        "#### Сделайте визуализацию топ-10 вакансий с самой высокой зарплатой"
      ]
    },
    {
      "cell_type": "markdown",
      "source": [],
      "metadata": {
        "id": "2-Je3Z-_SAYP"
      },
      "id": "2-Je3Z-_SAYP"
    },
    {
      "cell_type": "markdown",
      "id": "a6a733bd",
      "metadata": {
        "id": "a6a733bd"
      },
      "source": [
        "1. Создайте таблицу для топ-10 вакансий (столбец name) "
      ]
    },
    {
      "cell_type": "code",
      "execution_count": 40,
      "id": "b96e9370",
      "metadata": {
        "id": "b96e9370"
      },
      "outputs": [],
      "source": [
        "# df_median_salary = df.groupby('city', as_index=False).agg({'salary_rur':'median'}).round(2)\n",
        "# top = df_median_salary.nlargest(10, 'salary_rur')\n",
        "\n",
        "# Наша таблица состоит из следующих полей:\n",
        "\n",
        "#     name - название вакансии\n",
        "#     city - город\n",
        "#     employer - название комапании-работадателя\n",
        "#     salary - зарплата\n",
        "#     cyrrency - валюта зарплаты\n",
        "#     requirement - описание требований вакансии\n",
        "#     schedule - тип занятости\n",
        "\n",
        "\n",
        "\n",
        "df_max_salary = df.groupby('name', as_index=False).agg({'salary_rur':'max'}).round(2)\n",
        "top = df_max_salary.nlargest(10, 'salary_rur')"
      ]
    },
    {
      "cell_type": "markdown",
      "source": [
        "<details> <summary>Нажмите сюда, чтобы увидеть пример кода</summary>\n",
        "\n",
        "\n",
        "```python\n",
        "df_max_salary = df.groupby('name', as_index=False).agg({'salary_rur':'max'}).round(2)\n",
        "top = df_max_salary.nlargest(10, 'salary_rur')\n",
        "```\n",
        "\n",
        "\n",
        "\n",
        "\n",
        "\n",
        "\n"
      ],
      "metadata": {
        "id": "PJavCSrRQUvr"
      },
      "id": "PJavCSrRQUvr"
    },
    {
      "cell_type": "markdown",
      "source": [],
      "metadata": {
        "id": "H7k5dYpQQTEj"
      },
      "id": "H7k5dYpQQTEj"
    },
    {
      "cell_type": "code",
      "source": [
        "#выедем таблицу \n",
        "top"
      ],
      "metadata": {
        "id": "_R4GwL7lPzWa",
        "colab": {
          "base_uri": "https://localhost:8080/",
          "height": 300
        },
        "outputId": "8f872091-f030-48a5-fc38-41f0bc5b87d5"
      },
      "id": "_R4GwL7lPzWa",
      "execution_count": 41,
      "outputs": [
        {
          "output_type": "execute_result",
          "data": {
            "text/plain": [
              "                                                name  salary_rur\n",
              "1   Администратор Bitrix 24/ программист/разработчик    200000.0\n",
              "7  Сетевой администратор-аналитик (направление ки...    180000.0\n",
              "6              Разработчик/Аналитик/Администратор 1С    150000.0\n",
              "2                  Администратор Битрикс 24 (в офис)    130000.0\n",
              "3                    Администратор Битрикс 24 (офис)    100000.0\n",
              "0                                   Администратор BI     92707.5\n",
              "4                                Администратор сайта     75000.0\n",
              "5        Помощник аналитика / Администратор-аналитик     70000.0"
            ],
            "text/html": [
              "\n",
              "  <div id=\"df-97cfa830-67a3-4640-a0e8-516cbac384b2\">\n",
              "    <div class=\"colab-df-container\">\n",
              "      <div>\n",
              "<style scoped>\n",
              "    .dataframe tbody tr th:only-of-type {\n",
              "        vertical-align: middle;\n",
              "    }\n",
              "\n",
              "    .dataframe tbody tr th {\n",
              "        vertical-align: top;\n",
              "    }\n",
              "\n",
              "    .dataframe thead th {\n",
              "        text-align: right;\n",
              "    }\n",
              "</style>\n",
              "<table border=\"1\" class=\"dataframe\">\n",
              "  <thead>\n",
              "    <tr style=\"text-align: right;\">\n",
              "      <th></th>\n",
              "      <th>name</th>\n",
              "      <th>salary_rur</th>\n",
              "    </tr>\n",
              "  </thead>\n",
              "  <tbody>\n",
              "    <tr>\n",
              "      <th>1</th>\n",
              "      <td>Администратор Bitrix 24/ программист/разработчик</td>\n",
              "      <td>200000.0</td>\n",
              "    </tr>\n",
              "    <tr>\n",
              "      <th>7</th>\n",
              "      <td>Сетевой администратор-аналитик (направление ки...</td>\n",
              "      <td>180000.0</td>\n",
              "    </tr>\n",
              "    <tr>\n",
              "      <th>6</th>\n",
              "      <td>Разработчик/Аналитик/Администратор 1С</td>\n",
              "      <td>150000.0</td>\n",
              "    </tr>\n",
              "    <tr>\n",
              "      <th>2</th>\n",
              "      <td>Администратор Битрикс 24 (в офис)</td>\n",
              "      <td>130000.0</td>\n",
              "    </tr>\n",
              "    <tr>\n",
              "      <th>3</th>\n",
              "      <td>Администратор Битрикс 24 (офис)</td>\n",
              "      <td>100000.0</td>\n",
              "    </tr>\n",
              "    <tr>\n",
              "      <th>0</th>\n",
              "      <td>Администратор BI</td>\n",
              "      <td>92707.5</td>\n",
              "    </tr>\n",
              "    <tr>\n",
              "      <th>4</th>\n",
              "      <td>Администратор сайта</td>\n",
              "      <td>75000.0</td>\n",
              "    </tr>\n",
              "    <tr>\n",
              "      <th>5</th>\n",
              "      <td>Помощник аналитика / Администратор-аналитик</td>\n",
              "      <td>70000.0</td>\n",
              "    </tr>\n",
              "  </tbody>\n",
              "</table>\n",
              "</div>\n",
              "      <button class=\"colab-df-convert\" onclick=\"convertToInteractive('df-97cfa830-67a3-4640-a0e8-516cbac384b2')\"\n",
              "              title=\"Convert this dataframe to an interactive table.\"\n",
              "              style=\"display:none;\">\n",
              "        \n",
              "  <svg xmlns=\"http://www.w3.org/2000/svg\" height=\"24px\"viewBox=\"0 0 24 24\"\n",
              "       width=\"24px\">\n",
              "    <path d=\"M0 0h24v24H0V0z\" fill=\"none\"/>\n",
              "    <path d=\"M18.56 5.44l.94 2.06.94-2.06 2.06-.94-2.06-.94-.94-2.06-.94 2.06-2.06.94zm-11 1L8.5 8.5l.94-2.06 2.06-.94-2.06-.94L8.5 2.5l-.94 2.06-2.06.94zm10 10l.94 2.06.94-2.06 2.06-.94-2.06-.94-.94-2.06-.94 2.06-2.06.94z\"/><path d=\"M17.41 7.96l-1.37-1.37c-.4-.4-.92-.59-1.43-.59-.52 0-1.04.2-1.43.59L10.3 9.45l-7.72 7.72c-.78.78-.78 2.05 0 2.83L4 21.41c.39.39.9.59 1.41.59.51 0 1.02-.2 1.41-.59l7.78-7.78 2.81-2.81c.8-.78.8-2.07 0-2.86zM5.41 20L4 18.59l7.72-7.72 1.47 1.35L5.41 20z\"/>\n",
              "  </svg>\n",
              "      </button>\n",
              "      \n",
              "  <style>\n",
              "    .colab-df-container {\n",
              "      display:flex;\n",
              "      flex-wrap:wrap;\n",
              "      gap: 12px;\n",
              "    }\n",
              "\n",
              "    .colab-df-convert {\n",
              "      background-color: #E8F0FE;\n",
              "      border: none;\n",
              "      border-radius: 50%;\n",
              "      cursor: pointer;\n",
              "      display: none;\n",
              "      fill: #1967D2;\n",
              "      height: 32px;\n",
              "      padding: 0 0 0 0;\n",
              "      width: 32px;\n",
              "    }\n",
              "\n",
              "    .colab-df-convert:hover {\n",
              "      background-color: #E2EBFA;\n",
              "      box-shadow: 0px 1px 2px rgba(60, 64, 67, 0.3), 0px 1px 3px 1px rgba(60, 64, 67, 0.15);\n",
              "      fill: #174EA6;\n",
              "    }\n",
              "\n",
              "    [theme=dark] .colab-df-convert {\n",
              "      background-color: #3B4455;\n",
              "      fill: #D2E3FC;\n",
              "    }\n",
              "\n",
              "    [theme=dark] .colab-df-convert:hover {\n",
              "      background-color: #434B5C;\n",
              "      box-shadow: 0px 1px 3px 1px rgba(0, 0, 0, 0.15);\n",
              "      filter: drop-shadow(0px 1px 2px rgba(0, 0, 0, 0.3));\n",
              "      fill: #FFFFFF;\n",
              "    }\n",
              "  </style>\n",
              "\n",
              "      <script>\n",
              "        const buttonEl =\n",
              "          document.querySelector('#df-97cfa830-67a3-4640-a0e8-516cbac384b2 button.colab-df-convert');\n",
              "        buttonEl.style.display =\n",
              "          google.colab.kernel.accessAllowed ? 'block' : 'none';\n",
              "\n",
              "        async function convertToInteractive(key) {\n",
              "          const element = document.querySelector('#df-97cfa830-67a3-4640-a0e8-516cbac384b2');\n",
              "          const dataTable =\n",
              "            await google.colab.kernel.invokeFunction('convertToInteractive',\n",
              "                                                     [key], {});\n",
              "          if (!dataTable) return;\n",
              "\n",
              "          const docLinkHtml = 'Like what you see? Visit the ' +\n",
              "            '<a target=\"_blank\" href=https://colab.research.google.com/notebooks/data_table.ipynb>data table notebook</a>'\n",
              "            + ' to learn more about interactive tables.';\n",
              "          element.innerHTML = '';\n",
              "          dataTable['output_type'] = 'display_data';\n",
              "          await google.colab.output.renderOutput(dataTable, element);\n",
              "          const docLink = document.createElement('div');\n",
              "          docLink.innerHTML = docLinkHtml;\n",
              "          element.appendChild(docLink);\n",
              "        }\n",
              "      </script>\n",
              "    </div>\n",
              "  </div>\n",
              "  "
            ]
          },
          "metadata": {},
          "execution_count": 41
        }
      ]
    },
    {
      "cell_type": "markdown",
      "id": "8c4b2f71",
      "metadata": {
        "id": "8c4b2f71"
      },
      "source": [
        "2. Создайте соответсвующий график. Подберите для него цвет который вам нравится."
      ]
    },
    {
      "cell_type": "code",
      "source": [
        "# plt.figure(figsize=(14,8))\n",
        "\n",
        "# plt.title(\"Топ-10 городов России по медианной зарплате аналитиков по данным портала hh.ru\", fontsize=16)\n",
        "# plt.bar(top['city'],top['salary_rur'], color='#24d6ca')\n",
        "\n",
        "# plt.xlabel('Город')\n",
        "# plt.ylabel(\"Зарплата, руб.\")\n",
        "# plt.show()\n",
        "\n",
        "# Дополните код - замените занки решетки на необходимые значения\n",
        "plt.figure(figsize=(14,8))\n",
        "# plt.figure(figsize=('14', '8'))\n",
        "\n",
        "plt.title(\"Самые высокооплачиваемые вакансии системных администраторов по данным портала hh.ru\", fontsize=22)\n",
        "# plt.bar(top['city'],top['salary_rur'], color='#24d6ca')\n",
        "plt.bar(top['name'],top['salary_rur'], color='#CD5C5C')\n",
        "# plt.bar('name', 'salary_rur' color='black')\n",
        "\n",
        "plt.xlabel('Зарплата, руб.')\n",
        "plt.ylabel(\"Вакансия\")\n",
        "\n",
        "#Это строка поворачивает метки оси Х на 90 градусов, чтобы текст не накладывался друг на друга\n",
        "plt.tick_params(axis='x', rotation=90)\n",
        "\n",
        "plt.show()"
      ],
      "metadata": {
        "id": "anXziKA1Q9Az",
        "colab": {
          "base_uri": "https://localhost:8080/",
          "height": 876
        },
        "outputId": "c93df34d-7f68-4d50-89d6-b7b7cf11dd05"
      },
      "id": "anXziKA1Q9Az",
      "execution_count": 42,
      "outputs": [
        {
          "output_type": "display_data",
          "data": {
            "text/plain": [
              "<Figure size 1008x576 with 1 Axes>"
            ],
            "image/png": "[encoded data removed]"
          },
          "metadata": {
            "needs_background": "light"
          }
        }
      ]
    },
    {
      "cell_type": "markdown",
      "source": [
        "<details> <summary>Нажмите сюда, чтобы увидеть пример кода</summary>\n",
        "\n",
        "\n",
        "```python\n",
        "\n",
        "plt.figure(figsize=(14, 10))\n",
        "\n",
        "plt.title(\"Самые высокооплачиваемые вакансии системных администраторов по данным портала hh.ru\", fontsize=22)\n",
        "plt.bar(top['name'],top['salary_rur'], color='#FFB02E')\n",
        "\n",
        "plt.xlabel('Зарплата, руб.')\n",
        "plt.ylabel(\"Вакансия\")\n",
        "#Это строка поворачивает метки оси Х на 90 градусов, чтобы текст не накладывался друг на друга\n",
        "plt.tick_params(axis='x', rotation=90)\n",
        "\n",
        "plt.show()\n",
        "\n",
        "\n",
        "\n",
        "\n",
        "\n",
        "\n"
      ],
      "metadata": {
        "id": "q8pAwMunSC_b"
      },
      "id": "q8pAwMunSC_b"
    }
  ],
  "metadata": {
    "kernelspec": {
      "display_name": "Python 3 (ipykernel)",
      "language": "python",
      "name": "python3"
    },
    "language_info": {
      "codemirror_mode": {
        "name": "ipython",
        "version": 3
      },
      "file_extension": ".py",
      "mimetype": "text/x-python",
      "name": "python",
      "nbconvert_exporter": "python",
      "pygments_lexer": "ipython3",
      "version": "3.9.12"
    },
    "colab": {
      "provenance": [],
      "include_colab_link": true
    }
  },
  "nbformat": 4,
  "nbformat_minor": 5
}